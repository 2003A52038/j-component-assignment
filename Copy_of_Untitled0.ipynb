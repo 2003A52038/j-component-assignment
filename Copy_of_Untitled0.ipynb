{
  "nbformat": 4,
  "nbformat_minor": 0,
  "metadata": {
    "colab": {
      "name": "Copy of Untitled0.ipynb",
      "provenance": [],
      "collapsed_sections": [],
      "authorship_tag": "ABX9TyMbQ1SaTehgi2+IXL7l7bPD",
      "include_colab_link": true
    },
    "kernelspec": {
      "name": "python3",
      "display_name": "Python 3"
    },
    "language_info": {
      "name": "python"
    }
  },
  "cells": [
    {
      "cell_type": "markdown",
      "metadata": {
        "id": "view-in-github",
        "colab_type": "text"
      },
      "source": [
        "<a href=\"https://colab.research.google.com/github/2003A52038/j-component-assignment/blob/main/Copy_of_Untitled0.ipynb\" target=\"_parent\"><img src=\"https://colab.research.google.com/assets/colab-badge.svg\" alt=\"Open In Colab\"/></a>"
      ]
    },
    {
      "cell_type": "code",
      "metadata": {
        "id": "BUtsnSft9IPw"
      },
      "source": [
        "import numpy as np\n",
        "\n",
        "x1=[3.2,3.2,3.7,3.9,4,4,4.1,4.5,4.9,5.1,5.3,5.9,6]\n",
        "y=[54445,64445,57189,63218,55794,56957,57081,61111,67938,66029,83088,81363,93940]\n",
        "yp=[]\n",
        "e=[]\n",
        "m=[1235,1500,1850,2000]\n",
        "c=[1900,1950,2000,2100]\n",
        "\n",
        "def linear(m,c): \n",
        "  sum=0\n",
        "  for i in range(0,len(x1)):\n",
        "    yp.append(m*x1[i]+c)\n",
        "    g=(y[i]-yp[i])**2\n",
        "    sum=sum+g\n",
        "    e.append(g)\n",
        "    print('mean square is:',np.mod(sum,len(x1)))\n",
        "    sum=0\n",
        "         "
      ],
      "execution_count": null,
      "outputs": []
    },
    {
      "cell_type": "code",
      "metadata": {
        "colab": {
          "base_uri": "https://localhost:8080/"
        },
        "id": "ohglOENOAEAI",
        "outputId": "6f38c35b-398d-4abe-d3b5-ffd1555c7b55"
      },
      "source": [
        "for i in range(0,1):\n",
        "  linear(m[i],c[i])"
      ],
      "execution_count": null,
      "outputs": [
        {
          "output_type": "stream",
          "name": "stdout",
          "text": [
            "mean square is: 1.0\n",
            "mean square is: 4.0\n",
            "mean square is: 3.25\n",
            "mean square is: 12.25\n",
            "mean square is: 3\n",
            "mean square is: 4\n",
            "mean square is: 6.25\n",
            "mean square is: 6.25\n",
            "mean square is: 7.25\n",
            "mean square is: 3.25\n",
            "mean square is: 12.25\n",
            "mean square is: 0.25\n",
            "mean square is: 0\n"
          ]
        }
      ]
    }
  ]
}